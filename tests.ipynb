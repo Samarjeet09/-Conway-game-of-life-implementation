{
 "cells": [
  {
   "cell_type": "markdown",
   "metadata": {},
   "source": [
    "# Tests for Conways game of life \n",
    "### I will do basic test for the game in this file\n"
   ]
  },
  {
   "cell_type": "code",
   "execution_count": 1,
   "metadata": {},
   "outputs": [
    {
     "name": "stdout",
     "output_type": "stream",
     "text": [
      "pygame 2.5.2 (SDL 2.28.3, Python 3.10.14)\n",
      "Hello from the pygame community. https://www.pygame.org/contribute.html\n"
     ]
    }
   ],
   "source": [
    "import pygame\n"
   ]
  },
  {
   "cell_type": "markdown",
   "metadata": {},
   "source": [
    "## Making a grid"
   ]
  },
  {
   "cell_type": "code",
   "execution_count": 12,
   "metadata": {},
   "outputs": [],
   "source": [
    "pygame.init()\n",
    "HEIGHT, WIDTH = 500,500\n",
    "# for now lets experiment with this\n",
    "BLACK = (0, 0, 0)\n",
    "WHITE = (200, 200, 200)\n",
    "GREEN = (127,255,0)"
   ]
  },
  {
   "cell_type": "code",
   "execution_count": 17,
   "metadata": {},
   "outputs": [],
   "source": [
    "SCREEN = pygame.display.set_mode((WIDTH,HEIGHT))\n",
    "clock = pygame.time.Clock()\n",
    "running = True"
   ]
  },
  {
   "cell_type": "code",
   "execution_count": 45,
   "metadata": {},
   "outputs": [],
   "source": [
    "def drawGrid(screen,blockSize,color,):\n",
    "    for x in range(0,WIDTH,blockSize):\n",
    "        for y in range(0,HEIGHT,blockSize):\n",
    "            rect = pygame.Rect(x,y,blockSize,blockSize)\n",
    "            pygame.draw.rect(screen,color,rect,1)\n",
    "\n"
   ]
  },
  {
   "cell_type": "code",
   "execution_count": null,
   "metadata": {},
   "outputs": [],
   "source": []
  },
  {
   "cell_type": "code",
   "execution_count": 46,
   "metadata": {},
   "outputs": [],
   "source": [
    "SCREEN = pygame.display.set_mode((WIDTH,HEIGHT))\n",
    "clock = pygame.time.Clock()\n",
    "running = True\n",
    "while running:\n",
    "    SCREEN.fill(BLACK)\n",
    "    for event in pygame.event.get():\n",
    "        if event.type == pygame.QUIT:\n",
    "            running = False\n",
    "        if event.type == pygame.MOUSEBUTTONDOWN:\n",
    "            print(pygame.mouse.get_pos())\n",
    "\n",
    "    rect_dict = drawGrid(SCREEN,25,WHITE)\n",
    "    \n",
    "\n",
    "    pygame.display.flip()\n",
    "\n",
    "    clock.tick(60)\n",
    "\n",
    "pygame.quit()"
   ]
  },
  {
   "cell_type": "code",
   "execution_count": 41,
   "metadata": {},
   "outputs": [
    {
     "data": {
      "text/plain": [
       "400"
      ]
     },
     "execution_count": 41,
     "metadata": {},
     "output_type": "execute_result"
    }
   ],
   "source": [
    "len(rect_dict)"
   ]
  }
 ],
 "metadata": {
  "kernelspec": {
   "display_name": "pygame",
   "language": "python",
   "name": "python3"
  },
  "language_info": {
   "codemirror_mode": {
    "name": "ipython",
    "version": 3
   },
   "file_extension": ".py",
   "mimetype": "text/x-python",
   "name": "python",
   "nbconvert_exporter": "python",
   "pygments_lexer": "ipython3",
   "version": "3.10.14"
  }
 },
 "nbformat": 4,
 "nbformat_minor": 2
}
