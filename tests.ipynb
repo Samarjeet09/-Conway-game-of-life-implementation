{
 "cells": [
  {
   "cell_type": "markdown",
   "metadata": {},
   "source": [
    "# Tests for Conways game of life \n",
    "### I will do basic test for the game in this file\n"
   ]
  },
  {
   "cell_type": "code",
   "execution_count": null,
   "metadata": {},
   "outputs": [],
   "source": [
    "import pygame\n"
   ]
  },
  {
   "cell_type": "markdown",
   "metadata": {},
   "source": [
    "## Making a grid"
   ]
  },
  {
   "cell_type": "code",
   "execution_count": 7,
   "metadata": {},
   "outputs": [],
   "source": [
    "pygame.init()\n",
    "HEIGHT, WIDTH = 500,500\n",
    "# for now lets experiment with this\n",
    "BLACK = (0, 0, 0)\n",
    "WHITE = (200, 200, 200)\n",
    "GREEN = (127,255,0)"
   ]
  },
  {
   "cell_type": "code",
   "execution_count": null,
   "metadata": {},
   "outputs": [],
   "source": [
    "SCREEN = pygame.display.set_mode((WIDTH,HEIGHT))\n",
    "clock = pygame.time.Clock()\n",
    "running = True"
   ]
  },
  {
   "cell_type": "code",
   "execution_count": null,
   "metadata": {},
   "outputs": [],
   "source": [
    "def drawGrid(screen,blockSize:int,state:dict)->dict:\n",
    "    \"\"\" return state of the board\"\"\"\n",
    "    state =dict()\n",
    "    rect_dict=dict()\n",
    "    i = 0\n",
    "    for x in range(0,WIDTH,blockSize):\n",
    "        for y in range(0,HEIGHT,blockSize):\n",
    "            rect = pygame.Rect(x,y,blockSize,blockSize)\n",
    "            rect_dict[i] = rect\n",
    "            i+=1\n",
    "            pygame.draw.rect(screen,color,rect,1)\n",
    "\n",
    "    return state"
   ]
  },
  {
   "cell_type": "code",
   "execution_count": 4,
   "metadata": {},
   "outputs": [],
   "source": [
    "PURPLE = (43, 25, 61)\n",
    "PINK = (197, 151, 157)\n",
    "BLUE = (44, 54, 94)\n",
    "CYAN = (75, 143, 140)"
   ]
  },
  {
   "cell_type": "code",
   "execution_count": 8,
   "metadata": {},
   "outputs": [],
   "source": [
    "from typing import List\n",
    "\n",
    "\n",
    "class Grid:\n",
    "    \"\"\"\n",
    "    Args:\n",
    "    screen_ref: reference to the screen to draw\n",
    "    block_size: size of the block\n",
    "    screen_width: screen parameter\n",
    "    screen_height: screen parameter\n",
    "    underpopulation_threshhold:default = 2 Alive cell dies if neighbours less than this threshold(exclusive)\n",
    "    overpopulation_threshold:default = 3 Alive cell dies if neighbours more than this threshold(exclusive)\n",
    "    reproduction_threshold:default = 3 Dead cell becomes alive if surrounded by exactly this number of cells\n",
    "    \"\"\"\n",
    "\n",
    "    def __init__(\n",
    "        self,\n",
    "        screen_ref,\n",
    "        block_size,\n",
    "        screen_width,\n",
    "        screen_height,\n",
    "        underpopulation_threshhold: int = 2,\n",
    "        overpopulation_threshhold: int = 3,\n",
    "        reproduction_threshhold: int = 3,\n",
    "    ):\n",
    "        self.screen = screen_ref\n",
    "        self.block_size = block_size\n",
    "        self.SCREEN_WIDTH = screen_width\n",
    "        self.SCREEN_HEIGHT = screen_height\n",
    "        self.rows: int = screen_height // block_size\n",
    "        self.cols: int = screen_width // block_size\n",
    "        self.num_rects: int = self.rows * self.cols\n",
    "        self.rect_dict = dict()\n",
    "        self.alive_status: List[bool] = [\n",
    "            [False for _ in range(self.cols)] for _ in range(self.rows)\n",
    "        ]\n",
    "        self.ALIVE_COLOR = (127, 255, 0)\n",
    "        self.DEAD_COLOR = (225, 225, 225)\n",
    "        i: int = 0\n",
    "        for y in range(0, self.SCREEN_HEIGHT, self.block_size):\n",
    "            for x in range(0, self.SCREEN_WIDTH, self.block_size):\n",
    "                rect = pygame.Rect(x, y, self.block_size, self.block_size)\n",
    "                self.rect_dict[i] = rect\n",
    "                i += 1\n",
    "\n",
    "        self.underpopulation_threshhold = underpopulation_threshhold\n",
    "        self.overpopulation_threshhold = overpopulation_threshhold\n",
    "        self.reproduction_threshhold = reproduction_threshhold\n",
    "\n",
    "        print(\"{} Cells created\".format(self.num_rects))\n",
    "\n",
    "    def drawGrid(self):\n",
    "        for y in range(self.cols):\n",
    "            for x in range(self.rows):\n",
    "                rect = self.rect_dict[y + x * self.cols]\n",
    "                isAlive = self.alive_status[x][y]\n",
    "                color = self.ALIVE_COLOR if isAlive else self.DEAD_COLOR\n",
    "                # 1 for outline , 0 for fill -> opp of this var\n",
    "                pygame.draw.rect(self.screen, PURPLE, rect, int(not isAlive))\n",
    "\n",
    "    def changeCellState(self, cell_x, cell_y):\n",
    "        \"\"\"toggle state of the cell\"\"\"\n",
    "        self.alive_status[cell_x][cell_y] = not self.alive_status[cell_x][cell_y]\n",
    "\n",
    "    def cell_pressed(self, click_x, click_y):\n",
    "        cell_x, cell_y = click_x // self.block_size, click_y // self.block_size\n",
    "        self.changeCellState(cell_x, cell_y)\n",
    "\n",
    "    def simulate(self):\n",
    "        # t,tr,r,br,b,bl,l,tl\n",
    "        temp :List[bool] = [[False for _ in range(self.cols)] for _ in range(self.rows)]\n",
    "        deltas = [(-1, 0),(-1, 1),(0, 1),(1, 1),(1, 0),(1, -1),(0, -1),(-1, -1),]\n",
    "        for x in range(self.rows):\n",
    "            for y in range(self.cols):\n",
    "                neighbours:int = 0\n",
    "                for dx,dy in deltas:\n",
    "                    nx,ny = x+dx,y+dy\n",
    "                    if 0<=nx<self.rows and 0<=ny<self.cols:\n",
    "                        if self.alive_status[nx][ny]:\n",
    "                            neighbours+=1\n",
    "                if self.alive_status[x][y] :\n",
    "                    if self.underpopulation_threshhold <= neighbours <= self.overpopulation_threshhold:\n",
    "                        temp[x][y] = True\n",
    "                else:\n",
    "                    if neighbours == self.reproduction_threshhold:\n",
    "                        temp[x][y] = True\n",
    "\n",
    "        self.alive_status = temp\n",
    "\n",
    "    def reset(self):\n",
    "         self.alive_status = [[False for _ in range(self.cols)] for _ in range(self.rows)]\n",
    "\n",
    "\n"
   ]
  },
  {
   "cell_type": "code",
   "execution_count": 9,
   "metadata": {},
   "outputs": [
    {
     "name": "stdout",
     "output_type": "stream",
     "text": [
      "400 Cells created\n"
     ]
    }
   ],
   "source": [
    "SCREEN = pygame.display.set_mode((WIDTH,HEIGHT))\n",
    "clock = pygame.time.Clock()\n",
    "running = True\n",
    "board = Grid(SCREEN,25,WIDTH,HEIGHT)\n",
    "simulate:bool = False\n",
    "while running:\n",
    "    SCREEN.fill(BLACK)\n",
    "    for event in pygame.event.get():\n",
    "        if event.type == pygame.QUIT:\n",
    "            running = False\n",
    "        if event.type == pygame.MOUSEBUTTONDOWN:\n",
    "            x,y = pygame.mouse.get_pos()\n",
    "            # print(pygame.mouse.get_pos())\n",
    "            board.cell_pressed(y,x)\n",
    "        if event.type == pygame.KEYDOWN:\n",
    "            if event.key == pygame.K_s:\n",
    "                simulate = True\n",
    "            if event.key == pygame.K_p:\n",
    "                simulate = False\n",
    "            if event.key == pygame.K_r:\n",
    "                board.reset()\n",
    "            if event.key == pygame.K_n:\n",
    "                board.simulate()\n",
    "\n",
    "    if simulate: board.simulate()\n",
    "    board.drawGrid()\n",
    "    \n",
    "\n",
    "    pygame.display.flip()\n",
    "\n",
    "    clock.tick(3)\n",
    "\n",
    "pygame.quit()"
   ]
  }
 ],
 "metadata": {
  "kernelspec": {
   "display_name": "pygame",
   "language": "python",
   "name": "python3"
  },
  "language_info": {
   "codemirror_mode": {
    "name": "ipython",
    "version": 3
   },
   "file_extension": ".py",
   "mimetype": "text/x-python",
   "name": "python",
   "nbconvert_exporter": "python",
   "pygments_lexer": "ipython3",
   "version": "3.10.14"
  }
 },
 "nbformat": 4,
 "nbformat_minor": 2
}
