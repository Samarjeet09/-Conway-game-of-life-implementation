{
 "cells": [
  {
   "cell_type": "markdown",
   "metadata": {},
   "source": [
    "# Tests for Conways game of life \n",
    "### I will do basic test for the game in this file\n"
   ]
  },
  {
   "cell_type": "code",
   "execution_count": 1,
   "metadata": {},
   "outputs": [
    {
     "name": "stdout",
     "output_type": "stream",
     "text": [
      "pygame 2.5.2 (SDL 2.28.3, Python 3.10.14)\n",
      "Hello from the pygame community. https://www.pygame.org/contribute.html\n"
     ]
    }
   ],
   "source": [
    "import pygame\n"
   ]
  },
  {
   "cell_type": "markdown",
   "metadata": {},
   "source": [
    "## Making a grid"
   ]
  },
  {
   "cell_type": "code",
   "execution_count": 12,
   "metadata": {},
   "outputs": [],
   "source": [
    "pygame.init()\n",
    "HEIGHT, WIDTH = 500,500\n",
    "# for now lets experiment with this\n",
    "BLACK = (0, 0, 0)\n",
    "WHITE = (200, 200, 200)\n",
    "GREEN = (127,255,0)"
   ]
  },
  {
   "cell_type": "code",
   "execution_count": 17,
   "metadata": {},
   "outputs": [],
   "source": [
    "SCREEN = pygame.display.set_mode((WIDTH,HEIGHT))\n",
    "clock = pygame.time.Clock()\n",
    "running = True"
   ]
  },
  {
   "cell_type": "code",
   "execution_count": 55,
   "metadata": {},
   "outputs": [],
   "source": [
    "def drawGrid(screen,blockSize:int,state:dict)->dict:\n",
    "    \"\"\" return state of the board\"\"\"\n",
    "    state =dict()\n",
    "    rect_dict=dict()\n",
    "    i = 0\n",
    "    for x in range(0,WIDTH,blockSize):\n",
    "        for y in range(0,HEIGHT,blockSize):\n",
    "            rect = pygame.Rect(x,y,blockSize,blockSize)\n",
    "            rect_dict[i] = rect\n",
    "            i+=1\n",
    "            pygame.draw.rect(screen,color,rect,1)\n",
    "\n",
    "    return state"
   ]
  },
  {
   "cell_type": "code",
   "execution_count": 80,
   "metadata": {},
   "outputs": [],
   "source": [
    "from typing import List\n",
    "class Grid():\n",
    "    def __init__(self,screen_ref,block_size,screen_width,screen_height):\n",
    "        self.screen = screen_ref\n",
    "        self.block_size = block_size\n",
    "        self.SCREEN_WIDTH = screen_width\n",
    "        self.SCREEN_HEIGHT = screen_height\n",
    "        self.rows:int = screen_height // block_size\n",
    "        self.cols:int = screen_width // block_size\n",
    "        self.num_rects:int = self.rows * self.cols\n",
    "        self.rect_dict = dict()\n",
    "        self.alive_status:List[bool] = [False] * self.num_rects\n",
    "        self.ALIVE_COLOR = (127,255,0)\n",
    "        self.DEAD_COLOR = (225, 225, 225)\n",
    "        i :int =0\n",
    "        for y in range(0,self.SCREEN_HEIGHT,self.block_size):\n",
    "            for x in range(0,self.SCREEN_WIDTH,self.block_size):\n",
    "                rect = pygame.Rect(x,y,self.block_size,self.block_size)\n",
    "                self.rect_dict[i] = rect\n",
    "                i+=1\n",
    "                \n",
    "        \n",
    "\n",
    "        print('{} Cells created'.format(self.num_rects))\n",
    "    \n",
    "    def drawGrid(self):\n",
    "        for rect,isAlive in zip(self.rect_dict.values(),self.alive_status):\n",
    "            color  = self.ALIVE_COLOR if isAlive else self.DEAD_COLOR\n",
    "            # 1 for outline , 0 for fill -> opp of this var\n",
    "            pygame.draw.rect(self.screen,color,rect,int(not isAlive))\n",
    "    \n",
    "    def changeCellState(self,cellId:int):\n",
    "        \"\"\" toggle state of the cell\"\"\"\n",
    "        self.alive_status[cellId] = not self.alive_status[cellId]\n",
    "    \n",
    "    def cell_pressed(self,click_x,click_y):\n",
    "        start_x,start_y = click_x // self.block_size , click_y // self.block_size\n",
    "        cellIdx = start_x + (start_y  *self.cols)\n",
    "        self.changeCellState(cellIdx)\n",
    "        \n",
    "\n",
    "\n"
   ]
  },
  {
   "cell_type": "code",
   "execution_count": 81,
   "metadata": {},
   "outputs": [
    {
     "name": "stdout",
     "output_type": "stream",
     "text": [
      "400 Cells created\n"
     ]
    }
   ],
   "source": [
    "SCREEN = pygame.display.set_mode((WIDTH,HEIGHT))\n",
    "clock = pygame.time.Clock()\n",
    "running = True\n",
    "board = Grid(SCREEN,25,WIDTH,HEIGHT)\n",
    "while running:\n",
    "    SCREEN.fill(BLACK)\n",
    "    for event in pygame.event.get():\n",
    "        if event.type == pygame.QUIT:\n",
    "            running = False\n",
    "        if event.type == pygame.MOUSEBUTTONDOWN:\n",
    "            x,y = pygame.mouse.get_pos()\n",
    "            # print(pygame.mouse.get_pos())\n",
    "            board.cell_pressed(x,y)\n",
    "            \n",
    "\n",
    "    board.drawGrid()\n",
    "    \n",
    "\n",
    "    pygame.display.flip()\n",
    "\n",
    "    clock.tick(60)\n",
    "\n",
    "pygame.quit()"
   ]
  },
  {
   "cell_type": "code",
   "execution_count": 41,
   "metadata": {},
   "outputs": [
    {
     "data": {
      "text/plain": [
       "400"
      ]
     },
     "execution_count": 41,
     "metadata": {},
     "output_type": "execute_result"
    }
   ],
   "source": [
    "len(rect_dict)"
   ]
  }
 ],
 "metadata": {
  "kernelspec": {
   "display_name": "pygame",
   "language": "python",
   "name": "python3"
  },
  "language_info": {
   "codemirror_mode": {
    "name": "ipython",
    "version": 3
   },
   "file_extension": ".py",
   "mimetype": "text/x-python",
   "name": "python",
   "nbconvert_exporter": "python",
   "pygments_lexer": "ipython3",
   "version": "3.10.14"
  }
 },
 "nbformat": 4,
 "nbformat_minor": 2
}
